{
 "metadata": {
  "name": ""
 },
 "nbformat": 3,
 "nbformat_minor": 0,
 "worksheets": [
  {
   "cells": [
    {
     "cell_type": "markdown",
     "metadata": {},
     "source": [
      "#ipython tips\n",
      "\n",
      "To start in a user_notebook defined directory\n",
      "\n",
      "    ipython3 notebook --notebook-dir='/home/jobel/gits/phd/notebooks'\n",
      "\n",
      "##To create a profile configuration\n",
      "\n",
      "    $ ipython profile create namedprofile\n",
      "    $ vim ~/.ipython/profile_namedprofile/ipython_notebook_config.py\n",
      "\n",
      "Now we can edit the file:\n",
      "\n",
      "    c.IPKernelApp.pylab = 'inline'\n",
      "\n",
      "from ipython2.0\n",
      "\n",
      "    c.NotebookApp.notebook_dir = u'/path/to/your/notebooks'\n",
      "\n",
      "or ...\n",
      "\n",
      "## The directory to use for notebooks.\n",
      "    c.NotebookManager.notebook_dir = u'/path/to/your/notebooks'\n",
      "and\n",
      "\n",
      "## The directory to use for notebooks.\n",
      "    c.FileNotebookManager.notebook_dir = u'/path/to/your/notebooks'"
     ]
    },
    {
     "cell_type": "code",
     "collapsed": false,
     "input": [],
     "language": "python",
     "metadata": {},
     "outputs": []
    }
   ],
   "metadata": {}
  }
 ]
}