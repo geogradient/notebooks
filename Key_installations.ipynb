{
 "metadata": {
  "name": "",
  "signature": "sha256:d9ef62ab9aaf04fa2c4662a02d18b51fdecdff1c09ad46d8005bf52aadeb5d73"
 },
 "nbformat": 3,
 "nbformat_minor": 0,
 "worksheets": [
  {
   "cells": [
    {
     "cell_type": "markdown",
     "metadata": {},
     "source": [
      "#Installations\n",
      "## Installing Anaconda3\n",
      "\n",
      "    cd ~/Downloads\n",
      "    wget http://repo.continuum.io/anaconda3/Anaconda3-2.0.0-Linux-x86_64.sh \n",
      "    bash Anaconda3-2.0.0-Linux-x86_64.sh \n",
      "    \n",
      "### To work with python and mongodb \n",
      "    easy_install pymongo\n",
      "    easy_install bottle #optional\n",
      "    \n",
      "accept the licence and change default directory if need it.\n",
      "\n",
      "## [Installing mongodb](<http://docs.mongodb.org/manual/tutorial/install-mongodb-on-ubuntu/>)\n",
      "    \n",
      "    sudo mkdir /data | mkdir /data/db\n",
      "    sudo apt-key adv --keyserver keyserver.ubuntu.com --recv 7F0CEB10\n",
      "    echo 'deb http://downloads-distro.mongodb.org/repo/ubuntu-upstart dist 10gen' | sudo tee /etc/apt/sources.list.d/mongodb.list\n",
      "    sudo apt-get update\n",
      "    sudo apt-get install mongodb-org\n",
      "    \n",
      "    \n",
      "    \n",
      "    "
     ]
    },
    {
     "cell_type": "code",
     "collapsed": false,
     "input": [],
     "language": "python",
     "metadata": {},
     "outputs": [],
     "prompt_number": 0
    },
    {
     "cell_type": "code",
     "collapsed": false,
     "input": [],
     "language": "python",
     "metadata": {},
     "outputs": []
    }
   ],
   "metadata": {}
  }
 ]
}